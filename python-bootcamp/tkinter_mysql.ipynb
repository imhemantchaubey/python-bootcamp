{
 "cells": [
  {
   "cell_type": "markdown",
   "id": "132ba0d7",
   "metadata": {},
   "source": [
    "# Python tkinter interacting live with mysql"
   ]
  },
  {
   "cell_type": "code",
   "execution_count": 1,
   "id": "b598ef4b",
   "metadata": {},
   "outputs": [
    {
     "name": "stdout",
     "output_type": "stream",
     "text": [
      "Submitted and updated the database successfully...\n",
      "('Hemant', 'Chaubey', '16/10/2002', '9819594062', 'hemant@gmail.com', 'Mumbai')\n",
      "('Nandani', 'Chaubey', '09/02/2005', '9819594062', 'nandani@gmail.com', 'Mumbai')\n"
     ]
    }
   ],
   "source": [
    "from tkinter import *\n",
    "from tkinter import messagebox\n",
    "import mysql.connector\n",
    "\n",
    "mydb = mysql.connector.connect(\n",
    "  host=\"localhost\",\n",
    "  user=\"root\",\n",
    "  password=\"\",\n",
    "  database=\"python-tkinter\"\n",
    ")\n",
    "mycursor = mydb.cursor()\n",
    "\n",
    "root = Tk()\n",
    "\n",
    "root.geometry(\"400x300\")\n",
    "\n",
    "fname_var=StringVar()\n",
    "lname_var=StringVar()\n",
    "dob_var=StringVar()\n",
    "phone_var=StringVar()\n",
    "email_var=StringVar()\n",
    "city_var=StringVar()\n",
    "\n",
    "def fetch_db():\n",
    "   mycursor.execute(\"SELECT * FROM data\")\n",
    "   myresult = mycursor.fetchall()\n",
    "   for x in myresult:\n",
    "     print(x)\n",
    "\n",
    "def submit():\n",
    "  fname=fname_var.get()\n",
    "  lname=lname_var.get()\n",
    "  dob=dob_var.get()\n",
    "  phone=phone_var.get()\n",
    "  email=email_var.get()\n",
    "  city=city_var.get()\n",
    "  fname_var.set(\"\")\n",
    "  lname_var.set(\"\")\n",
    "  dob_var.set(\"\")\n",
    "  phone_var.set(\"\")\n",
    "  email_var.set(\"\")\n",
    "  city_var.set(\"\")\n",
    "  insert_query = \"INSERT INTO `data`(`First Name`, `Last Name`, `DOB`, `Phone`, `Email`, `City`) VALUES (%s, %s, %s, %s, %s, %s)\"\n",
    "  val = (fname, lname, dob, phone, email, city)\n",
    "  mycursor.execute(insert_query, val)\n",
    "  mydb.commit()\n",
    "  print(\"Submitted and updated the database successfully...\")\n",
    "\n",
    "    \n",
    "fname_label = Label(root, text = 'First Name:', font=('calibre',10, 'bold'))\n",
    "fname_entry = Entry(root,textvariable = fname_var, font=('calibre',10,'normal'))\n",
    "lname_label = Label(root, text = 'Last Name:', font = ('calibre',10,'bold'))\n",
    "lname_entry = Entry(root, textvariable = lname_var, font = ('calibre',10,'normal'))\n",
    "dob_label = Label(root, text = 'Date of Birth: ', font = ('calibre',10,'bold'))\n",
    "dob_entry = Entry(root, textvariable = dob_var, font = ('calibre',10,'normal'))\n",
    "phone_label = Label(root, text = 'Phone No.: ', font = ('calibre',10,'bold'))\n",
    "phone_entry = Entry(root, textvariable = phone_var, font = ('calibre',10,'normal'))\n",
    "email_label = Label(root, text = 'Email: ', font = ('calibre',10,'bold'))\n",
    "email_entry = Entry(root, textvariable = email_var, font = ('calibre',10,'normal'))\n",
    "city_label = Label(root, text = 'City: ', font = ('calibre',10,'bold'))\n",
    "city_entry = Entry(root, textvariable = city_var, font = ('calibre',10,'normal'))\n",
    "sub_btn = Button(root,text = 'Submit', command = submit)\n",
    "fetch_btn = Button(root,text = 'Fetch database in console', command = fetch_db)\n",
    "  \n",
    "fname_label.grid(row=0,column=0)\n",
    "fname_entry.grid(row=0,column=1)\n",
    "lname_label.grid(row=1,column=0)\n",
    "lname_entry.grid(row=1,column=1)\n",
    "dob_label.grid(row=2,column=0)\n",
    "dob_entry.grid(row=2,column=1)\n",
    "phone_label.grid(row=3,column=0)\n",
    "phone_entry.grid(row=3,column=1)\n",
    "email_label.grid(row=4,column=0)\n",
    "email_entry.grid(row=4,column=1)\n",
    "city_label.grid(row=5,column=0)\n",
    "city_entry.grid(row=5,column=1)\n",
    "sub_btn.grid(row=6,column=0)\n",
    "fetch_btn.grid(row=6,column=1)\n",
    "\n",
    "root.mainloop()"
   ]
  }
 ],
 "metadata": {
  "kernelspec": {
   "display_name": "Python 3 (ipykernel)",
   "language": "python",
   "name": "python3"
  },
  "language_info": {
   "codemirror_mode": {
    "name": "ipython",
    "version": 3
   },
   "file_extension": ".py",
   "mimetype": "text/x-python",
   "name": "python",
   "nbconvert_exporter": "python",
   "pygments_lexer": "ipython3",
   "version": "3.9.7"
  }
 },
 "nbformat": 4,
 "nbformat_minor": 5
}
