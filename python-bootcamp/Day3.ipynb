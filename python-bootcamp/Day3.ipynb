{
 "cells": [
  {
   "cell_type": "markdown",
   "id": "dee8c93b",
   "metadata": {},
   "source": [
    "# 15_Comp_A_Hemant Chaubey"
   ]
  },
  {
   "cell_type": "markdown",
   "id": "748a58af",
   "metadata": {},
   "source": [
    "# Classes in Python"
   ]
  },
  {
   "cell_type": "code",
   "execution_count": 1,
   "id": "349bd653",
   "metadata": {},
   "outputs": [],
   "source": [
    "class Students:\n",
    "    def printMessage(self):\n",
    "        print(\"Student class responded\")"
   ]
  },
  {
   "cell_type": "code",
   "execution_count": 2,
   "id": "5927d681",
   "metadata": {},
   "outputs": [
    {
     "name": "stdout",
     "output_type": "stream",
     "text": [
      "Student class responded\n"
     ]
    }
   ],
   "source": [
    "s1 = Students()\n",
    "s1.printMessage()"
   ]
  },
  {
   "cell_type": "markdown",
   "id": "46946005",
   "metadata": {},
   "source": [
    "# Constructors"
   ]
  },
  {
   "cell_type": "code",
   "execution_count": 3,
   "id": "9adcf641",
   "metadata": {},
   "outputs": [],
   "source": [
    "class Cars:\n",
    "    def __init__(self, mf, year):\n",
    "        self.mf = mf\n",
    "        self.year = year"
   ]
  },
  {
   "cell_type": "code",
   "execution_count": 4,
   "id": "2c3ab869",
   "metadata": {},
   "outputs": [],
   "source": [
    "a = Cars(\"Rolls Royce\", 1999)"
   ]
  },
  {
   "cell_type": "code",
   "execution_count": 5,
   "id": "bc1e5f1a",
   "metadata": {},
   "outputs": [
    {
     "data": {
      "text/plain": [
       "1999"
      ]
     },
     "execution_count": 5,
     "metadata": {},
     "output_type": "execute_result"
    }
   ],
   "source": [
    "a.year"
   ]
  },
  {
   "cell_type": "code",
   "execution_count": 6,
   "id": "1d5d6cf7",
   "metadata": {},
   "outputs": [
    {
     "data": {
      "text/plain": [
       "'Rolls Royce'"
      ]
     },
     "execution_count": 6,
     "metadata": {},
     "output_type": "execute_result"
    }
   ],
   "source": [
    "a.mf"
   ]
  },
  {
   "cell_type": "code",
   "execution_count": 7,
   "id": "09d3a958",
   "metadata": {},
   "outputs": [],
   "source": [
    "b = Cars(\"Lamborgini\", 1998)"
   ]
  },
  {
   "cell_type": "code",
   "execution_count": 8,
   "id": "ca8751c6",
   "metadata": {},
   "outputs": [
    {
     "data": {
      "text/plain": [
       "'Lamborgini'"
      ]
     },
     "execution_count": 8,
     "metadata": {},
     "output_type": "execute_result"
    }
   ],
   "source": [
    "b.mf"
   ]
  },
  {
   "cell_type": "code",
   "execution_count": 9,
   "id": "51368616",
   "metadata": {},
   "outputs": [
    {
     "data": {
      "text/plain": [
       "1998"
      ]
     },
     "execution_count": 9,
     "metadata": {},
     "output_type": "execute_result"
    }
   ],
   "source": [
    "b.year"
   ]
  },
  {
   "cell_type": "markdown",
   "id": "614b6ceb",
   "metadata": {},
   "source": [
    "# Methods"
   ]
  },
  {
   "cell_type": "code",
   "execution_count": 10,
   "id": "2bfdb3af",
   "metadata": {},
   "outputs": [],
   "source": [
    "class Person:\n",
    "   def __init__(self, name):\n",
    "      self.name = name\n",
    "   \n",
    "   \n",
    "   def talk(self):\n",
    "      print(f\"Hello there! I am {self.name}\")\n",
    "      print(\"I am talking.\")"
   ]
  },
  {
   "cell_type": "code",
   "execution_count": 11,
   "id": "07c934d6",
   "metadata": {},
   "outputs": [
    {
     "name": "stdout",
     "output_type": "stream",
     "text": [
      "Hello there! I am Hemant\n",
      "I am talking.\n"
     ]
    }
   ],
   "source": [
    "person1 = Person(\"Hemant\")\n",
    "person1.talk()"
   ]
  },
  {
   "cell_type": "code",
   "execution_count": 12,
   "id": "3989fc9c",
   "metadata": {},
   "outputs": [
    {
     "name": "stdout",
     "output_type": "stream",
     "text": [
      "Hello there! I am Ram\n",
      "I am talking.\n"
     ]
    }
   ],
   "source": [
    "person2 = Person(\"Ram\")\n",
    "person2.talk()"
   ]
  },
  {
   "cell_type": "code",
   "execution_count": 13,
   "id": "2c11f4a7",
   "metadata": {},
   "outputs": [],
   "source": [
    "person2.name = \"Shyam\""
   ]
  },
  {
   "cell_type": "code",
   "execution_count": 14,
   "id": "e35a0b66",
   "metadata": {},
   "outputs": [
    {
     "name": "stdout",
     "output_type": "stream",
     "text": [
      "Hello there! I am Shyam\n",
      "I am talking.\n"
     ]
    }
   ],
   "source": [
    "person2.talk()"
   ]
  },
  {
   "cell_type": "code",
   "execution_count": 15,
   "id": "57ad65e4",
   "metadata": {},
   "outputs": [
    {
     "name": "stdout",
     "output_type": "stream",
     "text": [
      "Enter the name: Hemant Chaubey\n"
     ]
    }
   ],
   "source": [
    "a = input(\"Enter the name: \")\n",
    "p1 = Person(a)"
   ]
  },
  {
   "cell_type": "code",
   "execution_count": 16,
   "id": "eda5775d",
   "metadata": {
    "scrolled": true
   },
   "outputs": [
    {
     "name": "stdout",
     "output_type": "stream",
     "text": [
      "Hello there! I am Hemant Chaubey\n",
      "I am talking.\n"
     ]
    }
   ],
   "source": [
    "p1.talk()"
   ]
  },
  {
   "cell_type": "markdown",
   "id": "69952412",
   "metadata": {},
   "source": [
    "# Inheritance"
   ]
  },
  {
   "cell_type": "code",
   "execution_count": 17,
   "id": "27dba58a",
   "metadata": {},
   "outputs": [],
   "source": [
    "class Mammal:\n",
    "   def walk(self):\n",
    "      print(\"I am walking...\")"
   ]
  },
  {
   "cell_type": "code",
   "execution_count": 18,
   "id": "d3009a86",
   "metadata": {},
   "outputs": [],
   "source": [
    "class Dog(Mammal):\n",
    "   def bark(self):\n",
    "      print(\"I am barking...\")"
   ]
  },
  {
   "cell_type": "code",
   "execution_count": 19,
   "id": "4ea78996",
   "metadata": {},
   "outputs": [],
   "source": [
    "class Cat(Mammal):\n",
    "   pass"
   ]
  },
  {
   "cell_type": "code",
   "execution_count": 20,
   "id": "76892b0f",
   "metadata": {},
   "outputs": [],
   "source": [
    "dog1 = Dog()"
   ]
  },
  {
   "cell_type": "code",
   "execution_count": 21,
   "id": "7cba82e2",
   "metadata": {},
   "outputs": [
    {
     "name": "stdout",
     "output_type": "stream",
     "text": [
      "I am walking...\n"
     ]
    }
   ],
   "source": [
    "dog1.walk()"
   ]
  },
  {
   "cell_type": "code",
   "execution_count": 22,
   "id": "0797fcba",
   "metadata": {},
   "outputs": [
    {
     "name": "stdout",
     "output_type": "stream",
     "text": [
      "I am barking...\n"
     ]
    }
   ],
   "source": [
    "dog1.bark()"
   ]
  },
  {
   "cell_type": "code",
   "execution_count": 23,
   "id": "b0e9aa97",
   "metadata": {},
   "outputs": [],
   "source": [
    "cat1 = Cat()"
   ]
  },
  {
   "cell_type": "code",
   "execution_count": 24,
   "id": "a5b83f35",
   "metadata": {
    "scrolled": true
   },
   "outputs": [
    {
     "name": "stdout",
     "output_type": "stream",
     "text": [
      "I am walking...\n"
     ]
    }
   ],
   "source": [
    "cat1.walk()"
   ]
  },
  {
   "cell_type": "markdown",
   "id": "a5fc5331",
   "metadata": {},
   "source": [
    "# Polymorphism"
   ]
  },
  {
   "cell_type": "code",
   "execution_count": 25,
   "id": "48e41565",
   "metadata": {},
   "outputs": [
    {
     "name": "stdout",
     "output_type": "stream",
     "text": [
      "4\n",
      "9\n",
      "3\n",
      "2\n"
     ]
    }
   ],
   "source": [
    "print(len([26, 89, 15, 132]))\n",
    "print(len(\"Programiz\"))\n",
    "print(len([\"Python\", \"Java\", \"C\"]))\n",
    "print(len({\"Name\": \"John\", \"Address\": \"Nepal\"}))"
   ]
  },
  {
   "cell_type": "code",
   "execution_count": 26,
   "id": "3ec84dba",
   "metadata": {},
   "outputs": [
    {
     "name": "stdout",
     "output_type": "stream",
     "text": [
      "685\n",
      "7978\n"
     ]
    }
   ],
   "source": [
    "def add(x, y, z = 0):\n",
    "    return x + y + z\n",
    "\n",
    "print(add(596, 89))\n",
    "print(add(7899, 56, 23))"
   ]
  },
  {
   "cell_type": "code",
   "execution_count": null,
   "id": "3a1d8fb5",
   "metadata": {},
   "outputs": [],
   "source": []
  }
 ],
 "metadata": {
  "kernelspec": {
   "display_name": "Python 3 (ipykernel)",
   "language": "python",
   "name": "python3"
  },
  "language_info": {
   "codemirror_mode": {
    "name": "ipython",
    "version": 3
   },
   "file_extension": ".py",
   "mimetype": "text/x-python",
   "name": "python",
   "nbconvert_exporter": "python",
   "pygments_lexer": "ipython3",
   "version": "3.9.7"
  }
 },
 "nbformat": 4,
 "nbformat_minor": 5
}
