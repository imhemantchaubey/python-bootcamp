{
 "cells": [
  {
   "cell_type": "markdown",
   "id": "0290e627",
   "metadata": {},
   "source": [
    "# Basics"
   ]
  },
  {
   "cell_type": "code",
   "execution_count": 1,
   "id": "8486715a",
   "metadata": {},
   "outputs": [
    {
     "name": "stdout",
     "output_type": "stream",
     "text": [
      "Hello World...Hemant here!\n"
     ]
    }
   ],
   "source": [
    "print(\"Hello World...Hemant here!\")"
   ]
  },
  {
   "cell_type": "code",
   "execution_count": 2,
   "id": "6f7c3b3a",
   "metadata": {},
   "outputs": [
    {
     "name": "stdout",
     "output_type": "stream",
     "text": [
      "19\n"
     ]
    }
   ],
   "source": [
    "age = 19\n",
    "print(age)"
   ]
  },
  {
   "cell_type": "code",
   "execution_count": 3,
   "id": "08a949b3",
   "metadata": {},
   "outputs": [
    {
     "name": "stdout",
     "output_type": "stream",
     "text": [
      "56.23\n"
     ]
    }
   ],
   "source": [
    "float = 56.23\n",
    "print(float)"
   ]
  },
  {
   "cell_type": "code",
   "execution_count": 4,
   "id": "f64f2cac",
   "metadata": {},
   "outputs": [
    {
     "name": "stdout",
     "output_type": "stream",
     "text": [
      "True\n"
     ]
    }
   ],
   "source": [
    "boolean = True\n",
    "print(boolean)"
   ]
  },
  {
   "cell_type": "code",
   "execution_count": 5,
   "id": "96f9d911",
   "metadata": {},
   "outputs": [
    {
     "name": "stdout",
     "output_type": "stream",
     "text": [
      "<class 'int'>\n"
     ]
    }
   ],
   "source": [
    "print(type(age))"
   ]
  },
  {
   "cell_type": "code",
   "execution_count": 6,
   "id": "f96a8fdd",
   "metadata": {
    "scrolled": true
   },
   "outputs": [
    {
     "data": {
      "text/plain": [
       "float"
      ]
     },
     "execution_count": 6,
     "metadata": {},
     "output_type": "execute_result"
    }
   ],
   "source": [
    "type(float)"
   ]
  },
  {
   "cell_type": "code",
   "execution_count": 7,
   "id": "27ce2c65",
   "metadata": {},
   "outputs": [
    {
     "name": "stdout",
     "output_type": "stream",
     "text": [
      "Enter your age: 15\n"
     ]
    }
   ],
   "source": [
    "a = int(input(\"Enter your age: \"))"
   ]
  },
  {
   "cell_type": "code",
   "execution_count": 8,
   "id": "0f639463",
   "metadata": {},
   "outputs": [
    {
     "data": {
      "text/plain": [
       "15"
      ]
     },
     "execution_count": 8,
     "metadata": {},
     "output_type": "execute_result"
    }
   ],
   "source": [
    "a"
   ]
  },
  {
   "cell_type": "code",
   "execution_count": 9,
   "id": "14a96810",
   "metadata": {},
   "outputs": [
    {
     "name": "stdout",
     "output_type": "stream",
     "text": [
      "75.22999999999999\n"
     ]
    }
   ],
   "source": [
    "print(age+float)"
   ]
  },
  {
   "cell_type": "code",
   "execution_count": 10,
   "id": "9f22b18e",
   "metadata": {},
   "outputs": [
    {
     "name": "stdout",
     "output_type": "stream",
     "text": [
      "37.23\n"
     ]
    }
   ],
   "source": [
    "print(float - age)"
   ]
  },
  {
   "cell_type": "code",
   "execution_count": 11,
   "id": "f9e77d85",
   "metadata": {},
   "outputs": [
    {
     "name": "stdout",
     "output_type": "stream",
     "text": [
      "1068.37\n"
     ]
    }
   ],
   "source": [
    "print(age*float)"
   ]
  },
  {
   "cell_type": "code",
   "execution_count": 12,
   "id": "7ec7cab9",
   "metadata": {},
   "outputs": [
    {
     "name": "stdout",
     "output_type": "stream",
     "text": [
      "False\n"
     ]
    }
   ],
   "source": [
    "print(age==19 and float==56.2)"
   ]
  },
  {
   "cell_type": "code",
   "execution_count": 13,
   "id": "60c0c9bc",
   "metadata": {},
   "outputs": [
    {
     "name": "stdout",
     "output_type": "stream",
     "text": [
      "True\n"
     ]
    }
   ],
   "source": [
    "print(age==19 or float==56.2)"
   ]
  },
  {
   "cell_type": "code",
   "execution_count": 14,
   "id": "b0b8c9bc",
   "metadata": {},
   "outputs": [
    {
     "name": "stdout",
     "output_type": "stream",
     "text": [
      "False\n"
     ]
    }
   ],
   "source": [
    "print(not(age==19))"
   ]
  },
  {
   "cell_type": "markdown",
   "id": "a80c4708",
   "metadata": {},
   "source": [
    "# Python Strings"
   ]
  },
  {
   "cell_type": "code",
   "execution_count": 1,
   "id": "01dd460e",
   "metadata": {},
   "outputs": [],
   "source": [
    "a = \"Hello Hemant\""
   ]
  },
  {
   "cell_type": "code",
   "execution_count": 2,
   "id": "8c27e16e",
   "metadata": {},
   "outputs": [
    {
     "data": {
      "text/plain": [
       "'l'"
      ]
     },
     "execution_count": 2,
     "metadata": {},
     "output_type": "execute_result"
    }
   ],
   "source": [
    "a[3]"
   ]
  },
  {
   "cell_type": "code",
   "execution_count": 3,
   "id": "d15cb27c",
   "metadata": {},
   "outputs": [
    {
     "name": "stdout",
     "output_type": "stream",
     "text": [
      "llo \n"
     ]
    }
   ],
   "source": [
    "print(a[2:6])"
   ]
  },
  {
   "cell_type": "code",
   "execution_count": 4,
   "id": "5802eb0e",
   "metadata": {},
   "outputs": [
    {
     "name": "stdout",
     "output_type": "stream",
     "text": [
      "t\n"
     ]
    }
   ],
   "source": [
    "print(a[-1])"
   ]
  },
  {
   "cell_type": "code",
   "execution_count": 5,
   "id": "b9627a16",
   "metadata": {},
   "outputs": [
    {
     "name": "stdout",
     "output_type": "stream",
     "text": [
      "Hello Heman\n"
     ]
    }
   ],
   "source": [
    "print(a[:-1])"
   ]
  },
  {
   "cell_type": "code",
   "execution_count": 6,
   "id": "51783666",
   "metadata": {},
   "outputs": [
    {
     "name": "stdout",
     "output_type": "stream",
     "text": [
      "H\n",
      "e\n",
      "l\n",
      "l\n",
      "o\n",
      " \n",
      "H\n",
      "e\n",
      "m\n",
      "a\n",
      "n\n",
      "t\n"
     ]
    }
   ],
   "source": [
    "for i in a:\n",
    "    print(i)"
   ]
  },
  {
   "cell_type": "code",
   "execution_count": 7,
   "id": "f65048d9",
   "metadata": {},
   "outputs": [
    {
     "name": "stdout",
     "output_type": "stream",
     "text": [
      "Hello Hemant"
     ]
    }
   ],
   "source": [
    "for i in a:\n",
    "    print(i, end=\"\")"
   ]
  },
  {
   "cell_type": "code",
   "execution_count": 8,
   "id": "a5c96e3a",
   "metadata": {},
   "outputs": [
    {
     "name": "stdout",
     "output_type": "stream",
     "text": [
      "H e l l o   H e m a n t "
     ]
    }
   ],
   "source": [
    "for i in a:\n",
    "    print(i, end=\" \")"
   ]
  },
  {
   "cell_type": "code",
   "execution_count": 9,
   "id": "d9617f36",
   "metadata": {},
   "outputs": [
    {
     "name": "stdout",
     "output_type": "stream",
     "text": [
      "12\n"
     ]
    }
   ],
   "source": [
    "print(len(a))"
   ]
  },
  {
   "cell_type": "code",
   "execution_count": 10,
   "id": "eaa543b6",
   "metadata": {},
   "outputs": [
    {
     "name": "stdout",
     "output_type": "stream",
     "text": [
      "5\n"
     ]
    }
   ],
   "source": [
    "print(len('Hello'))"
   ]
  },
  {
   "cell_type": "code",
   "execution_count": 11,
   "id": "aa362f08",
   "metadata": {},
   "outputs": [
    {
     "name": "stdout",
     "output_type": "stream",
     "text": [
      "False\n"
     ]
    }
   ],
   "source": [
    "print(\"hello\" in a)"
   ]
  },
  {
   "cell_type": "code",
   "execution_count": 12,
   "id": "f4a2a540",
   "metadata": {},
   "outputs": [
    {
     "name": "stdout",
     "output_type": "stream",
     "text": [
      "True\n"
     ]
    }
   ],
   "source": [
    "print(\"Hello\" in a)"
   ]
  },
  {
   "cell_type": "code",
   "execution_count": 13,
   "id": "d3a2b605",
   "metadata": {},
   "outputs": [],
   "source": [
    "b = 'I am learning Python'"
   ]
  },
  {
   "cell_type": "code",
   "execution_count": 14,
   "id": "77fae6e2",
   "metadata": {},
   "outputs": [
    {
     "name": "stdout",
     "output_type": "stream",
     "text": [
      "Hello HemantI am learning Python\n"
     ]
    }
   ],
   "source": [
    "print(a+b)"
   ]
  },
  {
   "cell_type": "code",
   "execution_count": 15,
   "id": "1f38399e",
   "metadata": {},
   "outputs": [
    {
     "name": "stdout",
     "output_type": "stream",
     "text": [
      "Hello Hemant! I am learning Python\n"
     ]
    }
   ],
   "source": [
    "print(a+\"! \"+b)"
   ]
  },
  {
   "cell_type": "code",
   "execution_count": 16,
   "id": "8155e9f1",
   "metadata": {},
   "outputs": [
    {
     "name": "stdout",
     "output_type": "stream",
     "text": [
      "Hello Hemant I am learning Python\n"
     ]
    }
   ],
   "source": [
    "print(a, b)"
   ]
  },
  {
   "cell_type": "markdown",
   "id": "1dc63011",
   "metadata": {},
   "source": [
    "# Python Arrays"
   ]
  },
  {
   "cell_type": "code",
   "execution_count": 17,
   "id": "3646e8f6",
   "metadata": {},
   "outputs": [
    {
     "name": "stdout",
     "output_type": "stream",
     "text": [
      "[16, 89, 15]\n"
     ]
    }
   ],
   "source": [
    "abc = [16, 89, 15]\n",
    "print(abc)"
   ]
  },
  {
   "cell_type": "code",
   "execution_count": 18,
   "id": "98753929",
   "metadata": {},
   "outputs": [
    {
     "name": "stdout",
     "output_type": "stream",
     "text": [
      "89\n"
     ]
    }
   ],
   "source": [
    "print(abc[1])"
   ]
  },
  {
   "cell_type": "code",
   "execution_count": 19,
   "id": "d2bcfd55",
   "metadata": {},
   "outputs": [
    {
     "name": "stdout",
     "output_type": "stream",
     "text": [
      "[16, 89]\n"
     ]
    }
   ],
   "source": [
    "print(abc[0:-1])"
   ]
  },
  {
   "cell_type": "code",
   "execution_count": 20,
   "id": "73175711",
   "metadata": {
    "scrolled": true
   },
   "outputs": [
    {
     "name": "stdout",
     "output_type": "stream",
     "text": [
      "3\n"
     ]
    }
   ],
   "source": [
    "print(len(abc))"
   ]
  },
  {
   "cell_type": "code",
   "execution_count": 21,
   "id": "13d51c3a",
   "metadata": {},
   "outputs": [
    {
     "name": "stdout",
     "output_type": "stream",
     "text": [
      "16\n",
      "89\n",
      "15\n"
     ]
    }
   ],
   "source": [
    "for i in abc:\n",
    "    print(i)"
   ]
  },
  {
   "cell_type": "code",
   "execution_count": 22,
   "id": "54178841",
   "metadata": {},
   "outputs": [
    {
     "name": "stdout",
     "output_type": "stream",
     "text": [
      "16-89-15-"
     ]
    }
   ],
   "source": [
    "for i in abc:\n",
    "    print(i, end=\"-\")"
   ]
  },
  {
   "cell_type": "markdown",
   "id": "e73c7fd4",
   "metadata": {},
   "source": [
    "# Package and Modules"
   ]
  },
  {
   "cell_type": "code",
   "execution_count": 23,
   "id": "61322343",
   "metadata": {},
   "outputs": [],
   "source": [
    "from tkinter import *\n",
    "from tkinter import messagebox\n",
    "import pymysql as mysql"
   ]
  },
  {
   "cell_type": "code",
   "execution_count": 24,
   "id": "fe7d714c",
   "metadata": {},
   "outputs": [],
   "source": [
    "top = Tk()\n",
    "top.geometry(\"400x300\")\n",
    "def helloCallBack():\n",
    "   messagebox.showinfo( \"Hello Python\", \"Hello World\")\n",
    "\n",
    "B = Button(top, text =\"Hello\", command = helloCallBack)\n",
    "\n",
    "B.pack()\n",
    "top.mainloop()"
   ]
  }
 ],
 "metadata": {
  "kernelspec": {
   "display_name": "Python 3 (ipykernel)",
   "language": "python",
   "name": "python3"
  },
  "language_info": {
   "codemirror_mode": {
    "name": "ipython",
    "version": 3
   },
   "file_extension": ".py",
   "mimetype": "text/x-python",
   "name": "python",
   "nbconvert_exporter": "python",
   "pygments_lexer": "ipython3",
   "version": "3.9.7"
  }
 },
 "nbformat": 4,
 "nbformat_minor": 5
}
