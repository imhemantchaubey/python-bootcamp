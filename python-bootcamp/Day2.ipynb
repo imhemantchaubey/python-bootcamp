{
 "cells": [
  {
   "cell_type": "markdown",
   "id": "ef6dd8d5",
   "metadata": {},
   "source": [
    "# Conditional Statements"
   ]
  },
  {
   "cell_type": "code",
   "execution_count": 1,
   "id": "a9d77d1a",
   "metadata": {},
   "outputs": [
    {
     "name": "stdout",
     "output_type": "stream",
     "text": [
      "Enter the value for a: 15\n",
      "Enter the value for b: 16\n",
      "b is greater than a\n"
     ]
    }
   ],
   "source": [
    "a = int(input(\"Enter the value for a: \"))\n",
    "b = int(input(\"Enter the value for b: \"))\n",
    "if b > a:\n",
    "  print(\"b is greater than a\")"
   ]
  },
  {
   "cell_type": "code",
   "execution_count": 2,
   "id": "4633470b",
   "metadata": {},
   "outputs": [
    {
     "name": "stdout",
     "output_type": "stream",
     "text": [
      "a and b are not equal\n"
     ]
    }
   ],
   "source": [
    "if b != a:\n",
    "  print(\"a and b are not equal\")\n",
    "elif a == b:\n",
    "  print(\"a and b are equal\")"
   ]
  },
  {
   "cell_type": "code",
   "execution_count": 3,
   "id": "3e88300f",
   "metadata": {},
   "outputs": [
    {
     "name": "stdout",
     "output_type": "stream",
     "text": [
      "b is greater than a\n"
     ]
    }
   ],
   "source": [
    "if b > a:\n",
    "  print(\"b is greater than a\")\n",
    "elif a > b:\n",
    "  print(\"a is greater than b\")\n",
    "else:\n",
    "  print(\"a and b are equal\")"
   ]
  },
  {
   "cell_type": "code",
   "execution_count": 4,
   "id": "e8afc98a",
   "metadata": {},
   "outputs": [
    {
     "name": "stdout",
     "output_type": "stream",
     "text": [
      "b is greater than a\n"
     ]
    }
   ],
   "source": [
    "print(\"a is greater than b\") if a > b else print(\"b is greater than a\")"
   ]
  },
  {
   "cell_type": "code",
   "execution_count": 5,
   "id": "39ba1f17",
   "metadata": {},
   "outputs": [
    {
     "name": "stdout",
     "output_type": "stream",
     "text": [
      "a is smaller than 100\n"
     ]
    }
   ],
   "source": [
    "if a>b and b>100:\n",
    "    print(\"a is greater than 100\")\n",
    "else:\n",
    "    print(\"a is smaller than 100\")"
   ]
  },
  {
   "cell_type": "code",
   "execution_count": 6,
   "id": "ae2fcb8c",
   "metadata": {},
   "outputs": [
    {
     "name": "stdout",
     "output_type": "stream",
     "text": [
      "One\n"
     ]
    }
   ],
   "source": [
    "if a>b or b>10:\n",
    "    print(\"One\")\n",
    "else:\n",
    "    print(\"Two\")"
   ]
  },
  {
   "cell_type": "markdown",
   "id": "f2dd9577",
   "metadata": {},
   "source": [
    "# Loops"
   ]
  },
  {
   "cell_type": "code",
   "execution_count": 7,
   "id": "481cc982",
   "metadata": {},
   "outputs": [
    {
     "name": "stdout",
     "output_type": "stream",
     "text": [
      "Current Letter : P\n",
      "Current Letter : y\n",
      "Current Letter : t\n",
      "Current Letter : h\n",
      "Current Letter : o\n",
      "Current Letter : n\n"
     ]
    }
   ],
   "source": [
    "for letter in 'Python':\n",
    "   print ('Current Letter :', letter)"
   ]
  },
  {
   "cell_type": "code",
   "execution_count": 8,
   "id": "6e2a47d4",
   "metadata": {},
   "outputs": [
    {
     "name": "stdout",
     "output_type": "stream",
     "text": [
      "Hemant Chaubey"
     ]
    }
   ],
   "source": [
    "for i in \"Hemant Chaubey\":\n",
    "    print(i, end=\"\")"
   ]
  },
  {
   "cell_type": "code",
   "execution_count": 9,
   "id": "4d8e41b3",
   "metadata": {},
   "outputs": [
    {
     "name": "stdout",
     "output_type": "stream",
     "text": [
      "0\n",
      "1\n",
      "2\n",
      "3\n",
      "4\n"
     ]
    }
   ],
   "source": [
    "for i in range(5):\n",
    "    print(i)"
   ]
  },
  {
   "cell_type": "code",
   "execution_count": 10,
   "id": "df0da1a4",
   "metadata": {},
   "outputs": [
    {
     "name": "stdout",
     "output_type": "stream",
     "text": [
      "65\n",
      "66\n",
      "67\n",
      "68\n",
      "69\n"
     ]
    }
   ],
   "source": [
    "for i in range(65, 70):\n",
    "    print(i)"
   ]
  },
  {
   "cell_type": "code",
   "execution_count": 11,
   "id": "717ae97b",
   "metadata": {},
   "outputs": [
    {
     "name": "stdout",
     "output_type": "stream",
     "text": [
      "100\n",
      "105\n",
      "110\n",
      "115\n",
      "120\n",
      "125\n",
      "130\n",
      "135\n",
      "140\n",
      "145\n"
     ]
    }
   ],
   "source": [
    "for i in range(100, 150, 5):\n",
    "    print(i)"
   ]
  },
  {
   "cell_type": "code",
   "execution_count": 12,
   "id": "7f9f3eb8",
   "metadata": {},
   "outputs": [
    {
     "name": "stdout",
     "output_type": "stream",
     "text": [
      "105\n",
      "115\n",
      "125\n",
      "135\n",
      "145\n"
     ]
    }
   ],
   "source": [
    "for i in range(100, 150, 5):\n",
    "    if i%10==0: continue\n",
    "    print(i)"
   ]
  },
  {
   "cell_type": "code",
   "execution_count": 13,
   "id": "e5713439",
   "metadata": {},
   "outputs": [
    {
     "name": "stdout",
     "output_type": "stream",
     "text": [
      "105\n",
      "115\n",
      "125\n",
      "135\n",
      "145\n",
      "Three\n"
     ]
    }
   ],
   "source": [
    "for i in range(100, 150, 5):\n",
    "    if i%10==0: continue\n",
    "    print(i)\n",
    "else:\n",
    "    print(\"Three\")"
   ]
  },
  {
   "cell_type": "code",
   "execution_count": 14,
   "id": "d8785de9",
   "metadata": {},
   "outputs": [],
   "source": [
    "def printHelloWorld():\n",
    "    print(\"Hello World...Hemant here!\")"
   ]
  },
  {
   "cell_type": "code",
   "execution_count": 15,
   "id": "921a846d",
   "metadata": {},
   "outputs": [
    {
     "name": "stdout",
     "output_type": "stream",
     "text": [
      "Hello World...Hemant here!\n"
     ]
    }
   ],
   "source": [
    "printHelloWorld()"
   ]
  },
  {
   "cell_type": "code",
   "execution_count": 16,
   "id": "1642ef85",
   "metadata": {},
   "outputs": [],
   "source": [
    "def factorial(x):\n",
    "    if x == 1:\n",
    "        return 1\n",
    "    else:\n",
    "        return (x * factorial(x-1))"
   ]
  },
  {
   "cell_type": "code",
   "execution_count": 17,
   "id": "b4a65f75",
   "metadata": {},
   "outputs": [
    {
     "data": {
      "text/plain": [
       "3628800"
      ]
     },
     "execution_count": 17,
     "metadata": {},
     "output_type": "execute_result"
    }
   ],
   "source": [
    "factorial(10)"
   ]
  },
  {
   "cell_type": "code",
   "execution_count": 18,
   "id": "b7fe267a",
   "metadata": {},
   "outputs": [
    {
     "data": {
      "text/plain": [
       "120"
      ]
     },
     "execution_count": 18,
     "metadata": {},
     "output_type": "execute_result"
    }
   ],
   "source": [
    "factorial(5)"
   ]
  },
  {
   "cell_type": "code",
   "execution_count": 19,
   "id": "42cd2f18",
   "metadata": {},
   "outputs": [],
   "source": [
    "def myName(fname, lname):\n",
    "    print(\"Name: \"+fname+lname)"
   ]
  },
  {
   "cell_type": "code",
   "execution_count": 20,
   "id": "158ef106",
   "metadata": {
    "scrolled": true
   },
   "outputs": [
    {
     "name": "stdout",
     "output_type": "stream",
     "text": [
      "Name: HemantChaubey\n"
     ]
    }
   ],
   "source": [
    "myName(\"Hemant\", \"Chaubey\")"
   ]
  },
  {
   "cell_type": "code",
   "execution_count": 21,
   "id": "90e66dd7",
   "metadata": {},
   "outputs": [],
   "source": [
    "def myDetails(fname, lname, age):\n",
    "    print(\"Name: \" + fname + \" \" + lname)\n",
    "    print(\"Age: \" + str(age))"
   ]
  },
  {
   "cell_type": "code",
   "execution_count": 22,
   "id": "85a338ca",
   "metadata": {},
   "outputs": [
    {
     "name": "stdout",
     "output_type": "stream",
     "text": [
      "Name: Hemant Chaubey\n",
      "Age: 19\n"
     ]
    }
   ],
   "source": [
    "myDetails(\"Hemant\", \"Chaubey\", 19)"
   ]
  },
  {
   "cell_type": "code",
   "execution_count": 23,
   "id": "40536c78",
   "metadata": {},
   "outputs": [
    {
     "name": "stdout",
     "output_type": "stream",
     "text": [
      "Enter the first name: Hemant\n",
      "Enter the last name: Chaubey\n",
      "Enter the age: 19\n",
      "Name: Hemant Chaubey\n",
      "Age: 19\n"
     ]
    }
   ],
   "source": [
    "first = input(\"Enter the first name: \")\n",
    "last = input(\"Enter the last name: \")\n",
    "age = input(\"Enter the age: \")\n",
    "myDetails(first, last, age)"
   ]
  },
  {
   "cell_type": "markdown",
   "id": "e8fc6e5f",
   "metadata": {},
   "source": [
    "# Lambda Functions"
   ]
  },
  {
   "cell_type": "code",
   "execution_count": 24,
   "id": "356e5e5b",
   "metadata": {},
   "outputs": [
    {
     "name": "stdout",
     "output_type": "stream",
     "text": [
      "15\n"
     ]
    }
   ],
   "source": [
    "x = lambda a : a + 10\n",
    "print(x(5))"
   ]
  },
  {
   "cell_type": "code",
   "execution_count": 25,
   "id": "767d79ef",
   "metadata": {},
   "outputs": [],
   "source": [
    "rollno = []\n",
    "for i in range(1, 71):\n",
    "    rollno.append(i)"
   ]
  },
  {
   "cell_type": "code",
   "execution_count": 26,
   "id": "3b29925a",
   "metadata": {},
   "outputs": [
    {
     "name": "stdout",
     "output_type": "stream",
     "text": [
      "[1, 2, 3, 4, 5, 6, 7, 8, 9, 10, 11, 12, 13, 14, 15, 16, 17, 18, 19, 20, 21, 22, 23, 24, 25, 26, 27, 28, 29, 30, 31, 32, 33, 34, 35, 36, 37, 38, 39, 40, 41, 42, 43, 44, 45, 46, 47, 48, 49, 50, 51, 52, 53, 54, 55, 56, 57, 58, 59, 60, 61, 62, 63, 64, 65, 66, 67, 68, 69, 70]\n"
     ]
    }
   ],
   "source": [
    "print(rollno)"
   ]
  },
  {
   "cell_type": "code",
   "execution_count": 27,
   "id": "c37c446f",
   "metadata": {},
   "outputs": [],
   "source": [
    "final = list(filter(lambda a: (a >30), rollno))"
   ]
  },
  {
   "cell_type": "code",
   "execution_count": 28,
   "id": "ed9163c7",
   "metadata": {},
   "outputs": [
    {
     "name": "stdout",
     "output_type": "stream",
     "text": [
      "A div rollno with greater than 30\n",
      "[31, 32, 33, 34, 35, 36, 37, 38, 39, 40, 41, 42, 43, 44, 45, 46, 47, 48, 49, 50, 51, 52, 53, 54, 55, 56, 57, 58, 59, 60, 61, 62, 63, 64, 65, 66, 67, 68, 69, 70]\n"
     ]
    }
   ],
   "source": [
    "print(\"A div rollno with greater than 30\")\n",
    "print(final)"
   ]
  },
  {
   "cell_type": "code",
   "execution_count": 29,
   "id": "317afbd1",
   "metadata": {},
   "outputs": [
    {
     "name": "stdout",
     "output_type": "stream",
     "text": [
      "Sum of rollnos of A div\n",
      "2485\n"
     ]
    }
   ],
   "source": [
    "import functools\n",
    "print(\"Sum of rollnos of A div\")\n",
    "print(functools.reduce(lambda a, b: a+b, rollno))"
   ]
  },
  {
   "cell_type": "code",
   "execution_count": 30,
   "id": "46c49186",
   "metadata": {},
   "outputs": [
    {
     "name": "stdout",
     "output_type": "stream",
     "text": [
      "70\n"
     ]
    }
   ],
   "source": [
    "print(functools.reduce(lambda a, b: a if a > b else b, rollno))"
   ]
  }
 ],
 "metadata": {
  "kernelspec": {
   "display_name": "Python 3 (ipykernel)",
   "language": "python",
   "name": "python3"
  },
  "language_info": {
   "codemirror_mode": {
    "name": "ipython",
    "version": 3
   },
   "file_extension": ".py",
   "mimetype": "text/x-python",
   "name": "python",
   "nbconvert_exporter": "python",
   "pygments_lexer": "ipython3",
   "version": "3.9.7"
  }
 },
 "nbformat": 4,
 "nbformat_minor": 5
}
