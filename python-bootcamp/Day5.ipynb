{
 "cells": [
  {
   "cell_type": "markdown",
   "id": "eee67bfa",
   "metadata": {},
   "source": [
    "# GUI in Python"
   ]
  },
  {
   "cell_type": "code",
   "execution_count": 1,
   "id": "94012914",
   "metadata": {},
   "outputs": [],
   "source": [
    "from tkinter import *\n",
    "from tkinter import messagebox\n",
    "import pymysql as mysql"
   ]
  },
  {
   "cell_type": "code",
   "execution_count": 2,
   "id": "30630f87",
   "metadata": {},
   "outputs": [],
   "source": [
    "top = Tk()\n",
    "top.geometry(\"400x300\")\n",
    "def helloCallBack():\n",
    "   messagebox.showinfo( \"Hello Python\", \"Hello World\")\n",
    "\n",
    "B = Button(top, text =\"Hello\", command = helloCallBack)\n",
    "\n",
    "B.pack()\n",
    "top.mainloop()"
   ]
  },
  {
   "cell_type": "code",
   "execution_count": 3,
   "id": "bb636bc9",
   "metadata": {},
   "outputs": [],
   "source": [
    "top = Tk()\n",
    "top.geometry(\"400x300\")\n",
    "CheckVar1 = IntVar()\n",
    "CheckVar2 = IntVar()\n",
    "C1 = Checkbutton(top, text = \"Music\", variable = CheckVar1, onvalue = 1, offvalue = 0, height=5, width = 20)\n",
    "C2 = Checkbutton(top, text = \"Video\", variable = CheckVar2, onvalue = 1, offvalue = 0, height=5, width = 20)\n",
    "C1.pack()\n",
    "C2.pack()\n",
    "top.mainloop()"
   ]
  },
  {
   "cell_type": "code",
   "execution_count": 4,
   "id": "0ac7fd23",
   "metadata": {},
   "outputs": [],
   "source": [
    "top = Tk()\n",
    "\n",
    "L1 = Label(top, text=\"User Name\")\n",
    "L1.pack( side = LEFT)\n",
    "E1 = Entry(top, bd =5)\n",
    "E1.pack(side = RIGHT)\n",
    "\n",
    "top.mainloop()"
   ]
  },
  {
   "cell_type": "code",
   "execution_count": 5,
   "id": "444c766e",
   "metadata": {},
   "outputs": [],
   "source": [
    "root = Tk()\n",
    "root.geometry(\"400x300\")\n",
    "frame = Frame(root)\n",
    "frame.pack()\n",
    "\n",
    "bottomframe = Frame(root)\n",
    "bottomframe.pack( side = BOTTOM )\n",
    "\n",
    "redbutton = Button(frame, text=\"Red\", fg=\"red\")\n",
    "redbutton.pack( side = LEFT)\n",
    "\n",
    "greenbutton = Button(frame, text=\"Brown\", fg=\"brown\")\n",
    "greenbutton.pack( side = LEFT )\n",
    "\n",
    "bluebutton = Button(frame, text=\"Blue\", fg=\"blue\")\n",
    "bluebutton.pack( side = LEFT )\n",
    "\n",
    "blackbutton = Button(bottomframe, text=\"Black\", fg=\"black\")\n",
    "blackbutton.pack( side = BOTTOM)\n",
    "\n",
    "root.mainloop()"
   ]
  },
  {
   "cell_type": "code",
   "execution_count": 6,
   "id": "706e7d66",
   "metadata": {},
   "outputs": [],
   "source": [
    "root = Tk()\n",
    "root.geometry(\"400x300\")\n",
    "var = StringVar()\n",
    "label = Label( root, textvariable=var, relief=RAISED )\n",
    "\n",
    "var.set(\"Hey!? How are you doing?\")\n",
    "label.pack()\n",
    "root.mainloop()"
   ]
  },
  {
   "cell_type": "code",
   "execution_count": 7,
   "id": "2bb81795",
   "metadata": {},
   "outputs": [],
   "source": [
    "master = Tk()\n",
    "master.geometry(\"400x300\")\n",
    "w = Canvas(master, width=40, height=60)\n",
    "w.pack()\n",
    "canvas_height=20\n",
    "canvas_width=200\n",
    "y = int(canvas_height / 2)\n",
    "w.create_line(0, y, canvas_width, y )\n",
    "mainloop()"
   ]
  },
  {
   "cell_type": "code",
   "execution_count": 8,
   "id": "5eda0534",
   "metadata": {},
   "outputs": [],
   "source": [
    "top = Tk()\n",
    "top.geometry(\"400x300\")\n",
    "\n",
    "C = Canvas(top, bg=\"blue\", height=250, width=300)\n",
    "\n",
    "coord = 10, 50, 240, 210\n",
    "arc = C.create_arc(coord, start=0, extent=150, fill=\"red\")\n",
    "\n",
    "C.pack()\n",
    "top.mainloop()"
   ]
  },
  {
   "cell_type": "code",
   "execution_count": 9,
   "id": "dad777d8",
   "metadata": {},
   "outputs": [],
   "source": [
    "top = Tk()\n",
    "top.geometry(\"500x400\")\n",
    "top.title(\"Python Form\")\n",
    "\n",
    "l1 = Label(top, text=\"First Name\")\n",
    "e1 = Entry(top, bd =5)\n",
    "l2 = Label(top, text=\"Last Name\")\n",
    "e2 = Entry(top, bd =5)\n",
    "l3 = Label(top, text=\"Email\")\n",
    "e3 = Entry(top, bd =5)\n",
    "l4 = Label(top, text=\"Gender\")\n",
    "CheckVar1 = IntVar()\n",
    "CheckVar2 = IntVar()\n",
    "CheckVar3 = IntVar()\n",
    "c1 = Checkbutton(top, text = \"Male\", variable = CheckVar1, onvalue = 1, offvalue = 0, width = 20)\n",
    "c2 = Checkbutton(top, text = \"Female\", variable = CheckVar2, onvalue = 1, offvalue = 0, width = 20)\n",
    "c3 = Checkbutton(top, text = \"Other\", variable = CheckVar3, onvalue = 1, offvalue = 0, width = 20)\n",
    "b = Button(top, text =\"Submit\")\n",
    "\n",
    "l1.pack()\n",
    "e1.pack()\n",
    "l2.pack()\n",
    "e2.pack()\n",
    "l3.pack()\n",
    "e3.pack()\n",
    "l4.pack()\n",
    "c1.pack()\n",
    "c2.pack()\n",
    "c3.pack()\n",
    "b.pack()\n",
    "\n",
    "top.mainloop()"
   ]
  }
 ],
 "metadata": {
  "kernelspec": {
   "display_name": "Python 3 (ipykernel)",
   "language": "python",
   "name": "python3"
  },
  "language_info": {
   "codemirror_mode": {
    "name": "ipython",
    "version": 3
   },
   "file_extension": ".py",
   "mimetype": "text/x-python",
   "name": "python",
   "nbconvert_exporter": "python",
   "pygments_lexer": "ipython3",
   "version": "3.9.7"
  }
 },
 "nbformat": 4,
 "nbformat_minor": 5
}
